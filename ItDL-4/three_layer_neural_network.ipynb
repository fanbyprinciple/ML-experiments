{
 "cells": [
  {
   "cell_type": "code",
   "execution_count": 1,
   "metadata": {},
   "outputs": [
    {
     "name": "stdout",
     "output_type": "stream",
     "text": [
      "Its working\n"
     ]
    }
   ],
   "source": [
    "print(\"Its working\")"
   ]
  },
  {
   "cell_type": "code",
   "execution_count": 2,
   "metadata": {},
   "outputs": [
    {
     "name": "stdout",
     "output_type": "stream",
     "text": [
      "[[0 0 1]\n",
      " [0 1 1]\n",
      " [1 0 1]\n",
      " [1 1 1]]\n",
      "[[0]\n",
      " [1]\n",
      " [1]\n",
      " [0]]\n"
     ]
    }
   ],
   "source": [
    "import numpy as np\n",
    "x = np.array([[0,0,1],\n",
    "            [0,1,1],\n",
    "            [1,0,1],\n",
    "            [1,1,1]])\n",
    "\n",
    "y = np.array([[0],\n",
    "            [1],\n",
    "            [1],\n",
    "            [0]])\n",
    "\n",
    "print(x)\n",
    "\n",
    "print(y)"
   ]
  },
  {
   "cell_type": "code",
   "execution_count": 5,
   "metadata": {},
   "outputs": [
    {
     "name": "stdout",
     "output_type": "stream",
     "text": [
      "[[-0.63036228  0.72275778 -0.52950858 -0.29291069]\n",
      " [ 0.28556042  0.23362338 -0.40166077 -0.95715753]\n",
      " [ 0.36317957 -0.86521414 -0.81503924  0.44483434]]\n",
      "[[ 0.94891975]\n",
      " [ 0.38332354]\n",
      " [-0.99996744]\n",
      " [-0.93607972]]\n"
     ]
    }
   ],
   "source": [
    "#define hyperparameters and build models\n",
    "\n",
    "num_epochs = 60000\n",
    "\n",
    "#initialise probable values for wieght values\n",
    "syn0 = 2*np.random.random([3,4])-1\n",
    "syn1 = 2*np.random.random([4,1])-1\n",
    "\n",
    "print(syn0)\n",
    "print(syn1)\n",
    "\n",
    "#define a sigmoid that takes a nonlinear value and \"squashes \" it into a linear one\n",
    "def nonlin(x, deriv=False):\n",
    "    if(deriv==True):\n",
    "        return x*(1-x)\n",
    "    return 1/(1 + np.exp(-x))\n",
    "\n",
    "#train model\n",
    "for j in range(num_epochs):\n",
    "    #feed forward through layers 0,1 and 2\n",
    "    l0 = x\n",
    "    l1 = nonlin(np.dot(l0,syn0)) \n",
    "    l2 = nonlin(np.dot(l1,syn1)) \n",
    "\n",
    "    #how much did we miss the target value?\n",
    "    l2_error = y - l2\n",
    "\n",
    "    #in what direction is the target value?\n",
    "    l2_delta = l2_error*nonlin(l2,deriv=True)\n",
    "\n",
    "    #how much did each l1 value contribute to l2 error\n",
    "    l1_error = l2_delta.dot(syn1.T)\n",
    "\n",
    "    l1_delta= l1_error * nonlin(l1,deriv=True)\n",
    "\n",
    "    syn1 += l1.T.dot(l2_delta)\n",
    "    syn0 += l0.T.dot(l1_delta)"
   ]
  }
 ],
 "metadata": {
  "kernelspec": {
   "display_name": "Python 3",
   "language": "python",
   "name": "python3"
  },
  "language_info": {
   "codemirror_mode": {
    "name": "ipython",
    "version": 3
   },
   "file_extension": ".py",
   "mimetype": "text/x-python",
   "name": "python",
   "nbconvert_exporter": "python",
   "pygments_lexer": "ipython3",
   "version": "3.5.2"
  }
 },
 "nbformat": 4,
 "nbformat_minor": 2
}
