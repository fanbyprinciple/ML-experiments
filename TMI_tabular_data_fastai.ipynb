{
  "nbformat": 4,
  "nbformat_minor": 0,
  "metadata": {
    "colab": {
      "name": "TMI tabular data fastai",
      "provenance": [],
      "collapsed_sections": [],
      "include_colab_link": true
    },
    "kernelspec": {
      "name": "python3",
      "display_name": "Python 3"
    },
    "language_info": {
      "name": "python"
    },
    "accelerator": "GPU",
    "gpuClass": "standard"
  },
  "cells": [
    {
      "cell_type": "markdown",
      "metadata": {
        "id": "view-in-github",
        "colab_type": "text"
      },
      "source": [
        "<a href=\"https://colab.research.google.com/github/fanbyprinciple/ML-experiments/blob/master/TMI_tabular_data_fastai.ipynb\" target=\"_parent\"><img src=\"https://colab.research.google.com/assets/colab-badge.svg\" alt=\"Open In Colab\"/></a>"
      ]
    },
    {
      "cell_type": "code",
      "source": [
        "!nvidia-smi\n",
        "# ensure you use gpu"
      ],
      "metadata": {
        "colab": {
          "base_uri": "https://localhost:8080/"
        },
        "id": "u5BxGYISHd66",
        "outputId": "376add7b-a0bd-4330-f804-191af91446bd"
      },
      "execution_count": 20,
      "outputs": [
        {
          "output_type": "stream",
          "name": "stdout",
          "text": [
            "Thu Aug  4 18:21:40 2022       \n",
            "+-----------------------------------------------------------------------------+\n",
            "| NVIDIA-SMI 460.32.03    Driver Version: 460.32.03    CUDA Version: 11.2     |\n",
            "|-------------------------------+----------------------+----------------------+\n",
            "| GPU  Name        Persistence-M| Bus-Id        Disp.A | Volatile Uncorr. ECC |\n",
            "| Fan  Temp  Perf  Pwr:Usage/Cap|         Memory-Usage | GPU-Util  Compute M. |\n",
            "|                               |                      |               MIG M. |\n",
            "|===============================+======================+======================|\n",
            "|   0  Tesla T4            Off  | 00000000:00:04.0 Off |                    0 |\n",
            "| N/A   49C    P0    26W /  70W |    876MiB / 15109MiB |      0%      Default |\n",
            "|                               |                      |                  N/A |\n",
            "+-------------------------------+----------------------+----------------------+\n",
            "                                                                               \n",
            "+-----------------------------------------------------------------------------+\n",
            "| Processes:                                                                  |\n",
            "|  GPU   GI   CI        PID   Type   Process name                  GPU Memory |\n",
            "|        ID   ID                                                   Usage      |\n",
            "|=============================================================================|\n",
            "+-----------------------------------------------------------------------------+\n"
          ]
        }
      ]
    },
    {
      "cell_type": "code",
      "execution_count": 21,
      "metadata": {
        "id": "AcRCsRoKHVYk"
      },
      "outputs": [],
      "source": [
        "from fastai import *\n",
        "import pandas as pd\n",
        "\n",
        "train = pd.read_csv(\"/content/TMI_DETAIL.csv\")\n"
      ]
    },
    {
      "cell_type": "code",
      "source": [
        "#pd.set_option('display.max_rows', train.shape[0]+1)\n",
        "train[:]"
      ],
      "metadata": {
        "colab": {
          "base_uri": "https://localhost:8080/",
          "height": 424
        },
        "id": "q-bkAkLPI7_8",
        "outputId": "ca6f5b91-2643-4685-d1ee-1ac2be1a95a0"
      },
      "execution_count": 22,
      "outputs": [
        {
          "output_type": "execute_result",
          "data": {
            "text/plain": [
              "        TERM_YEAR SEMESTER ACAD_CAR_CD ACAD_GRP_CD ACAD_PROG_CD GENDER_CD  \\\n",
              "0            2022   Spring        BUSN          BI        BIGBI         F   \n",
              "1            2022   Spring        BUSN          BI        BIGBI         F   \n",
              "2            2022   Spring        BUSN          BI        BIGBI         F   \n",
              "3            2022   Spring        BUSN          BI        BIGBI         F   \n",
              "4            2022   Spring        BUSN          BI        BIGBI         M   \n",
              "...           ...      ...         ...         ...          ...       ...   \n",
              "362693       1995     Fall        UGRD          UT        UTSOA         M   \n",
              "362694       1995     Fall        UGRD          UT        UTSOA         M   \n",
              "362695       1995     Fall        UGRD          UT        UTSOA         M   \n",
              "362696       1995     Fall        UGRD          UT        UTSOA         M   \n",
              "362697       1995     Fall        UGRD          UT        UTSOA         M   \n",
              "\n",
              "       ACAD_PLAN_CD DEG_CD STUDY_AGREEMENT_CODE  NYU_IPEDS_ETH_GRP  CNT  \n",
              "0          BIDABCMS     MS                  NaN                  4    1  \n",
              "1          BIDABCMS     MS                  NaN                  9   22  \n",
              "2          BIQFINMS     MS                  NaN                  4    1  \n",
              "3          BIQFINMS     MS                  NaN                  9   27  \n",
              "4          BIDABCMS     MS                  NaN                  1    1  \n",
              "...             ...    ...                  ...                ...  ...  \n",
              "362693    UTPHTGBFA    BFA                  NaN                  2    1  \n",
              "362694    UTPHTGBFA    BFA                  NaN                  3    1  \n",
              "362695    UTPHTGBFA    BFA                  NaN                  6    1  \n",
              "362696    UTPHTGBFA    BFA                  NaN                  9    3  \n",
              "362697    UTTHRDBFA    BFA                  NaN                  1    7  \n",
              "\n",
              "[362698 rows x 11 columns]"
            ],
            "text/html": [
              "\n",
              "  <div id=\"df-017922d4-bae4-466f-a804-fb5bb2a18ff9\">\n",
              "    <div class=\"colab-df-container\">\n",
              "      <div>\n",
              "<style scoped>\n",
              "    .dataframe tbody tr th:only-of-type {\n",
              "        vertical-align: middle;\n",
              "    }\n",
              "\n",
              "    .dataframe tbody tr th {\n",
              "        vertical-align: top;\n",
              "    }\n",
              "\n",
              "    .dataframe thead th {\n",
              "        text-align: right;\n",
              "    }\n",
              "</style>\n",
              "<table border=\"1\" class=\"dataframe\">\n",
              "  <thead>\n",
              "    <tr style=\"text-align: right;\">\n",
              "      <th></th>\n",
              "      <th>TERM_YEAR</th>\n",
              "      <th>SEMESTER</th>\n",
              "      <th>ACAD_CAR_CD</th>\n",
              "      <th>ACAD_GRP_CD</th>\n",
              "      <th>ACAD_PROG_CD</th>\n",
              "      <th>GENDER_CD</th>\n",
              "      <th>ACAD_PLAN_CD</th>\n",
              "      <th>DEG_CD</th>\n",
              "      <th>STUDY_AGREEMENT_CODE</th>\n",
              "      <th>NYU_IPEDS_ETH_GRP</th>\n",
              "      <th>CNT</th>\n",
              "    </tr>\n",
              "  </thead>\n",
              "  <tbody>\n",
              "    <tr>\n",
              "      <th>0</th>\n",
              "      <td>2022</td>\n",
              "      <td>Spring</td>\n",
              "      <td>BUSN</td>\n",
              "      <td>BI</td>\n",
              "      <td>BIGBI</td>\n",
              "      <td>F</td>\n",
              "      <td>BIDABCMS</td>\n",
              "      <td>MS</td>\n",
              "      <td>NaN</td>\n",
              "      <td>4</td>\n",
              "      <td>1</td>\n",
              "    </tr>\n",
              "    <tr>\n",
              "      <th>1</th>\n",
              "      <td>2022</td>\n",
              "      <td>Spring</td>\n",
              "      <td>BUSN</td>\n",
              "      <td>BI</td>\n",
              "      <td>BIGBI</td>\n",
              "      <td>F</td>\n",
              "      <td>BIDABCMS</td>\n",
              "      <td>MS</td>\n",
              "      <td>NaN</td>\n",
              "      <td>9</td>\n",
              "      <td>22</td>\n",
              "    </tr>\n",
              "    <tr>\n",
              "      <th>2</th>\n",
              "      <td>2022</td>\n",
              "      <td>Spring</td>\n",
              "      <td>BUSN</td>\n",
              "      <td>BI</td>\n",
              "      <td>BIGBI</td>\n",
              "      <td>F</td>\n",
              "      <td>BIQFINMS</td>\n",
              "      <td>MS</td>\n",
              "      <td>NaN</td>\n",
              "      <td>4</td>\n",
              "      <td>1</td>\n",
              "    </tr>\n",
              "    <tr>\n",
              "      <th>3</th>\n",
              "      <td>2022</td>\n",
              "      <td>Spring</td>\n",
              "      <td>BUSN</td>\n",
              "      <td>BI</td>\n",
              "      <td>BIGBI</td>\n",
              "      <td>F</td>\n",
              "      <td>BIQFINMS</td>\n",
              "      <td>MS</td>\n",
              "      <td>NaN</td>\n",
              "      <td>9</td>\n",
              "      <td>27</td>\n",
              "    </tr>\n",
              "    <tr>\n",
              "      <th>4</th>\n",
              "      <td>2022</td>\n",
              "      <td>Spring</td>\n",
              "      <td>BUSN</td>\n",
              "      <td>BI</td>\n",
              "      <td>BIGBI</td>\n",
              "      <td>M</td>\n",
              "      <td>BIDABCMS</td>\n",
              "      <td>MS</td>\n",
              "      <td>NaN</td>\n",
              "      <td>1</td>\n",
              "      <td>1</td>\n",
              "    </tr>\n",
              "    <tr>\n",
              "      <th>...</th>\n",
              "      <td>...</td>\n",
              "      <td>...</td>\n",
              "      <td>...</td>\n",
              "      <td>...</td>\n",
              "      <td>...</td>\n",
              "      <td>...</td>\n",
              "      <td>...</td>\n",
              "      <td>...</td>\n",
              "      <td>...</td>\n",
              "      <td>...</td>\n",
              "      <td>...</td>\n",
              "    </tr>\n",
              "    <tr>\n",
              "      <th>362693</th>\n",
              "      <td>1995</td>\n",
              "      <td>Fall</td>\n",
              "      <td>UGRD</td>\n",
              "      <td>UT</td>\n",
              "      <td>UTSOA</td>\n",
              "      <td>M</td>\n",
              "      <td>UTPHTGBFA</td>\n",
              "      <td>BFA</td>\n",
              "      <td>NaN</td>\n",
              "      <td>2</td>\n",
              "      <td>1</td>\n",
              "    </tr>\n",
              "    <tr>\n",
              "      <th>362694</th>\n",
              "      <td>1995</td>\n",
              "      <td>Fall</td>\n",
              "      <td>UGRD</td>\n",
              "      <td>UT</td>\n",
              "      <td>UTSOA</td>\n",
              "      <td>M</td>\n",
              "      <td>UTPHTGBFA</td>\n",
              "      <td>BFA</td>\n",
              "      <td>NaN</td>\n",
              "      <td>3</td>\n",
              "      <td>1</td>\n",
              "    </tr>\n",
              "    <tr>\n",
              "      <th>362695</th>\n",
              "      <td>1995</td>\n",
              "      <td>Fall</td>\n",
              "      <td>UGRD</td>\n",
              "      <td>UT</td>\n",
              "      <td>UTSOA</td>\n",
              "      <td>M</td>\n",
              "      <td>UTPHTGBFA</td>\n",
              "      <td>BFA</td>\n",
              "      <td>NaN</td>\n",
              "      <td>6</td>\n",
              "      <td>1</td>\n",
              "    </tr>\n",
              "    <tr>\n",
              "      <th>362696</th>\n",
              "      <td>1995</td>\n",
              "      <td>Fall</td>\n",
              "      <td>UGRD</td>\n",
              "      <td>UT</td>\n",
              "      <td>UTSOA</td>\n",
              "      <td>M</td>\n",
              "      <td>UTPHTGBFA</td>\n",
              "      <td>BFA</td>\n",
              "      <td>NaN</td>\n",
              "      <td>9</td>\n",
              "      <td>3</td>\n",
              "    </tr>\n",
              "    <tr>\n",
              "      <th>362697</th>\n",
              "      <td>1995</td>\n",
              "      <td>Fall</td>\n",
              "      <td>UGRD</td>\n",
              "      <td>UT</td>\n",
              "      <td>UTSOA</td>\n",
              "      <td>M</td>\n",
              "      <td>UTTHRDBFA</td>\n",
              "      <td>BFA</td>\n",
              "      <td>NaN</td>\n",
              "      <td>1</td>\n",
              "      <td>7</td>\n",
              "    </tr>\n",
              "  </tbody>\n",
              "</table>\n",
              "<p>362698 rows × 11 columns</p>\n",
              "</div>\n",
              "      <button class=\"colab-df-convert\" onclick=\"convertToInteractive('df-017922d4-bae4-466f-a804-fb5bb2a18ff9')\"\n",
              "              title=\"Convert this dataframe to an interactive table.\"\n",
              "              style=\"display:none;\">\n",
              "        \n",
              "  <svg xmlns=\"http://www.w3.org/2000/svg\" height=\"24px\"viewBox=\"0 0 24 24\"\n",
              "       width=\"24px\">\n",
              "    <path d=\"M0 0h24v24H0V0z\" fill=\"none\"/>\n",
              "    <path d=\"M18.56 5.44l.94 2.06.94-2.06 2.06-.94-2.06-.94-.94-2.06-.94 2.06-2.06.94zm-11 1L8.5 8.5l.94-2.06 2.06-.94-2.06-.94L8.5 2.5l-.94 2.06-2.06.94zm10 10l.94 2.06.94-2.06 2.06-.94-2.06-.94-.94-2.06-.94 2.06-2.06.94z\"/><path d=\"M17.41 7.96l-1.37-1.37c-.4-.4-.92-.59-1.43-.59-.52 0-1.04.2-1.43.59L10.3 9.45l-7.72 7.72c-.78.78-.78 2.05 0 2.83L4 21.41c.39.39.9.59 1.41.59.51 0 1.02-.2 1.41-.59l7.78-7.78 2.81-2.81c.8-.78.8-2.07 0-2.86zM5.41 20L4 18.59l7.72-7.72 1.47 1.35L5.41 20z\"/>\n",
              "  </svg>\n",
              "      </button>\n",
              "      \n",
              "  <style>\n",
              "    .colab-df-container {\n",
              "      display:flex;\n",
              "      flex-wrap:wrap;\n",
              "      gap: 12px;\n",
              "    }\n",
              "\n",
              "    .colab-df-convert {\n",
              "      background-color: #E8F0FE;\n",
              "      border: none;\n",
              "      border-radius: 50%;\n",
              "      cursor: pointer;\n",
              "      display: none;\n",
              "      fill: #1967D2;\n",
              "      height: 32px;\n",
              "      padding: 0 0 0 0;\n",
              "      width: 32px;\n",
              "    }\n",
              "\n",
              "    .colab-df-convert:hover {\n",
              "      background-color: #E2EBFA;\n",
              "      box-shadow: 0px 1px 2px rgba(60, 64, 67, 0.3), 0px 1px 3px 1px rgba(60, 64, 67, 0.15);\n",
              "      fill: #174EA6;\n",
              "    }\n",
              "\n",
              "    [theme=dark] .colab-df-convert {\n",
              "      background-color: #3B4455;\n",
              "      fill: #D2E3FC;\n",
              "    }\n",
              "\n",
              "    [theme=dark] .colab-df-convert:hover {\n",
              "      background-color: #434B5C;\n",
              "      box-shadow: 0px 1px 3px 1px rgba(0, 0, 0, 0.15);\n",
              "      filter: drop-shadow(0px 1px 2px rgba(0, 0, 0, 0.3));\n",
              "      fill: #FFFFFF;\n",
              "    }\n",
              "  </style>\n",
              "\n",
              "      <script>\n",
              "        const buttonEl =\n",
              "          document.querySelector('#df-017922d4-bae4-466f-a804-fb5bb2a18ff9 button.colab-df-convert');\n",
              "        buttonEl.style.display =\n",
              "          google.colab.kernel.accessAllowed ? 'block' : 'none';\n",
              "\n",
              "        async function convertToInteractive(key) {\n",
              "          const element = document.querySelector('#df-017922d4-bae4-466f-a804-fb5bb2a18ff9');\n",
              "          const dataTable =\n",
              "            await google.colab.kernel.invokeFunction('convertToInteractive',\n",
              "                                                     [key], {});\n",
              "          if (!dataTable) return;\n",
              "\n",
              "          const docLinkHtml = 'Like what you see? Visit the ' +\n",
              "            '<a target=\"_blank\" href=https://colab.research.google.com/notebooks/data_table.ipynb>data table notebook</a>'\n",
              "            + ' to learn more about interactive tables.';\n",
              "          element.innerHTML = '';\n",
              "          dataTable['output_type'] = 'display_data';\n",
              "          await google.colab.output.renderOutput(dataTable, element);\n",
              "          const docLink = document.createElement('div');\n",
              "          docLink.innerHTML = docLinkHtml;\n",
              "          element.appendChild(docLink);\n",
              "        }\n",
              "      </script>\n",
              "    </div>\n",
              "  </div>\n",
              "  "
            ]
          },
          "metadata": {},
          "execution_count": 22
        }
      ]
    },
    {
      "cell_type": "code",
      "source": [
        "# pecularities\n",
        "# 0. less number of features to predict from so highly dependent\n",
        "# 1. no winter data before 2009\n",
        "# 2. relatively less people join in winters \n",
        "# 3. most people join during spring and fall - these can be put together\n",
        "# 4. around 25k people join in summer - can be put into different category\n",
        "\n",
        "# things we can try - we can devide the dataset based on category and year\n",
        "# and have different models for all of them\n",
        "\n",
        "# trying with fastai\n",
        "from fastai.tabular.all import * \n",
        "from fastai.test_utils import show_install\n",
        "\n",
        "show_install()\n",
        "\n",
        "device = torch.device(\"cuda\" if torch.cuda.is_available() else \"cpu\")\n",
        "print(device)"
      ],
      "metadata": {
        "colab": {
          "base_uri": "https://localhost:8080/"
        },
        "id": "NDv8pKQ2Ikrb",
        "outputId": "25507026-8329-4f8b-f47a-20bf6de99778"
      },
      "execution_count": 23,
      "outputs": [
        {
          "output_type": "stream",
          "name": "stdout",
          "text": [
            "\n",
            "\n",
            "```text\n",
            "=== Software === \n",
            "python        : 3.7.13\n",
            "fastai        : 2.7.7\n",
            "fastcore      : 1.5.13\n",
            "fastprogress  : 1.0.3\n",
            "torch         : 1.12.0+cu113\n",
            "nvidia driver : 460.32\n",
            "torch cuda    : 11.3 / is available\n",
            "torch cudnn   : 8302 / is enabled\n",
            "\n",
            "=== Hardware === \n",
            "nvidia gpus   : 1\n",
            "torch devices : 1\n",
            "  - gpu0      : Tesla T4\n",
            "\n",
            "=== Environment === \n",
            "platform      : Linux-5.4.188+-x86_64-with-Ubuntu-18.04-bionic\n",
            "distro        : #1 SMP Sun Apr 24 10:03:06 PDT 2022\n",
            "conda env     : Unknown\n",
            "python        : /usr/bin/python3\n",
            "sys.path      : \n",
            "/content\n",
            "/env/python\n",
            "/usr/lib/python37.zip\n",
            "/usr/lib/python3.7\n",
            "/usr/lib/python3.7/lib-dynload\n",
            "/usr/local/lib/python3.7/dist-packages\n",
            "/usr/lib/python3/dist-packages\n",
            "/usr/local/lib/python3.7/dist-packages/IPython/extensions\n",
            "/root/.ipython\n",
            "```\n",
            "\n",
            "Please make sure to include opening/closing ``` when you paste into forums/github to make the reports appear formatted as code sections.\n",
            "\n",
            "Optional package(s) to enhance the diagnostics can be installed with:\n",
            "pip install distro\n",
            "Once installed, re-run this utility to get the additional information\n",
            "cuda\n"
          ]
        }
      ]
    },
    {
      "cell_type": "code",
      "source": [
        "train_df = train\n",
        "\n",
        "# for test lets use sklearn train test split\n",
        "from sklearn.model_selection import train_test_split\n",
        "X = train.drop([\"CNT\"],axis=1)\n",
        "y = train[\"CNT\"]\n",
        "_, X_test, _, y_test = train_test_split(X, y, test_size=0.2, random_state=0)\n",
        "# we will only take for test data and train on all\n",
        "\n",
        "test_df = X_test\n",
        "test_df[\"CNT\"] = y_test\n",
        "\n",
        "test_df.head()\n"
      ],
      "metadata": {
        "colab": {
          "base_uri": "https://localhost:8080/",
          "height": 206
        },
        "id": "aEMXZs4sMSYA",
        "outputId": "92beb917-a1c2-440d-85b4-3ec66591315c"
      },
      "execution_count": 24,
      "outputs": [
        {
          "output_type": "execute_result",
          "data": {
            "text/plain": [
              "        TERM_YEAR SEMESTER ACAD_CAR_CD ACAD_GRP_CD ACAD_PROG_CD GENDER_CD  \\\n",
              "60217        2019   Spring        UGRD          UT        UTSOA         M   \n",
              "294366       2002     Fall        UGRD          UA        UARTS         F   \n",
              "156872       2013   Winter        UGRD          SU        SUABU         F   \n",
              "336336       1998   Spring        UGRD          DC        DCSCP         M   \n",
              "269395       2004   Summer        GRAD          GE        GEEDU         F   \n",
              "\n",
              "       ACAD_PLAN_CD DEG_CD STUDY_AGREEMENT_CODE  NYU_IPEDS_ETH_GRP  CNT  \n",
              "60217     UTREMUBFA    BFA            GLOBAL-0D                  1    4  \n",
              "294366     UACHEMBA     BA                  NaN                  4   14  \n",
              "156872        SULBS      -                  NaN                  9    1  \n",
              "336336   DCBLDGDIPL   DIPL                  NaN                  4    1  \n",
              "269395     GEHONDMS     MS                  NaN                  4    9  "
            ],
            "text/html": [
              "\n",
              "  <div id=\"df-45c00a99-599c-4fac-a897-b0a4a6a42604\">\n",
              "    <div class=\"colab-df-container\">\n",
              "      <div>\n",
              "<style scoped>\n",
              "    .dataframe tbody tr th:only-of-type {\n",
              "        vertical-align: middle;\n",
              "    }\n",
              "\n",
              "    .dataframe tbody tr th {\n",
              "        vertical-align: top;\n",
              "    }\n",
              "\n",
              "    .dataframe thead th {\n",
              "        text-align: right;\n",
              "    }\n",
              "</style>\n",
              "<table border=\"1\" class=\"dataframe\">\n",
              "  <thead>\n",
              "    <tr style=\"text-align: right;\">\n",
              "      <th></th>\n",
              "      <th>TERM_YEAR</th>\n",
              "      <th>SEMESTER</th>\n",
              "      <th>ACAD_CAR_CD</th>\n",
              "      <th>ACAD_GRP_CD</th>\n",
              "      <th>ACAD_PROG_CD</th>\n",
              "      <th>GENDER_CD</th>\n",
              "      <th>ACAD_PLAN_CD</th>\n",
              "      <th>DEG_CD</th>\n",
              "      <th>STUDY_AGREEMENT_CODE</th>\n",
              "      <th>NYU_IPEDS_ETH_GRP</th>\n",
              "      <th>CNT</th>\n",
              "    </tr>\n",
              "  </thead>\n",
              "  <tbody>\n",
              "    <tr>\n",
              "      <th>60217</th>\n",
              "      <td>2019</td>\n",
              "      <td>Spring</td>\n",
              "      <td>UGRD</td>\n",
              "      <td>UT</td>\n",
              "      <td>UTSOA</td>\n",
              "      <td>M</td>\n",
              "      <td>UTREMUBFA</td>\n",
              "      <td>BFA</td>\n",
              "      <td>GLOBAL-0D</td>\n",
              "      <td>1</td>\n",
              "      <td>4</td>\n",
              "    </tr>\n",
              "    <tr>\n",
              "      <th>294366</th>\n",
              "      <td>2002</td>\n",
              "      <td>Fall</td>\n",
              "      <td>UGRD</td>\n",
              "      <td>UA</td>\n",
              "      <td>UARTS</td>\n",
              "      <td>F</td>\n",
              "      <td>UACHEMBA</td>\n",
              "      <td>BA</td>\n",
              "      <td>NaN</td>\n",
              "      <td>4</td>\n",
              "      <td>14</td>\n",
              "    </tr>\n",
              "    <tr>\n",
              "      <th>156872</th>\n",
              "      <td>2013</td>\n",
              "      <td>Winter</td>\n",
              "      <td>UGRD</td>\n",
              "      <td>SU</td>\n",
              "      <td>SUABU</td>\n",
              "      <td>F</td>\n",
              "      <td>SULBS</td>\n",
              "      <td>-</td>\n",
              "      <td>NaN</td>\n",
              "      <td>9</td>\n",
              "      <td>1</td>\n",
              "    </tr>\n",
              "    <tr>\n",
              "      <th>336336</th>\n",
              "      <td>1998</td>\n",
              "      <td>Spring</td>\n",
              "      <td>UGRD</td>\n",
              "      <td>DC</td>\n",
              "      <td>DCSCP</td>\n",
              "      <td>M</td>\n",
              "      <td>DCBLDGDIPL</td>\n",
              "      <td>DIPL</td>\n",
              "      <td>NaN</td>\n",
              "      <td>4</td>\n",
              "      <td>1</td>\n",
              "    </tr>\n",
              "    <tr>\n",
              "      <th>269395</th>\n",
              "      <td>2004</td>\n",
              "      <td>Summer</td>\n",
              "      <td>GRAD</td>\n",
              "      <td>GE</td>\n",
              "      <td>GEEDU</td>\n",
              "      <td>F</td>\n",
              "      <td>GEHONDMS</td>\n",
              "      <td>MS</td>\n",
              "      <td>NaN</td>\n",
              "      <td>4</td>\n",
              "      <td>9</td>\n",
              "    </tr>\n",
              "  </tbody>\n",
              "</table>\n",
              "</div>\n",
              "      <button class=\"colab-df-convert\" onclick=\"convertToInteractive('df-45c00a99-599c-4fac-a897-b0a4a6a42604')\"\n",
              "              title=\"Convert this dataframe to an interactive table.\"\n",
              "              style=\"display:none;\">\n",
              "        \n",
              "  <svg xmlns=\"http://www.w3.org/2000/svg\" height=\"24px\"viewBox=\"0 0 24 24\"\n",
              "       width=\"24px\">\n",
              "    <path d=\"M0 0h24v24H0V0z\" fill=\"none\"/>\n",
              "    <path d=\"M18.56 5.44l.94 2.06.94-2.06 2.06-.94-2.06-.94-.94-2.06-.94 2.06-2.06.94zm-11 1L8.5 8.5l.94-2.06 2.06-.94-2.06-.94L8.5 2.5l-.94 2.06-2.06.94zm10 10l.94 2.06.94-2.06 2.06-.94-2.06-.94-.94-2.06-.94 2.06-2.06.94z\"/><path d=\"M17.41 7.96l-1.37-1.37c-.4-.4-.92-.59-1.43-.59-.52 0-1.04.2-1.43.59L10.3 9.45l-7.72 7.72c-.78.78-.78 2.05 0 2.83L4 21.41c.39.39.9.59 1.41.59.51 0 1.02-.2 1.41-.59l7.78-7.78 2.81-2.81c.8-.78.8-2.07 0-2.86zM5.41 20L4 18.59l7.72-7.72 1.47 1.35L5.41 20z\"/>\n",
              "  </svg>\n",
              "      </button>\n",
              "      \n",
              "  <style>\n",
              "    .colab-df-container {\n",
              "      display:flex;\n",
              "      flex-wrap:wrap;\n",
              "      gap: 12px;\n",
              "    }\n",
              "\n",
              "    .colab-df-convert {\n",
              "      background-color: #E8F0FE;\n",
              "      border: none;\n",
              "      border-radius: 50%;\n",
              "      cursor: pointer;\n",
              "      display: none;\n",
              "      fill: #1967D2;\n",
              "      height: 32px;\n",
              "      padding: 0 0 0 0;\n",
              "      width: 32px;\n",
              "    }\n",
              "\n",
              "    .colab-df-convert:hover {\n",
              "      background-color: #E2EBFA;\n",
              "      box-shadow: 0px 1px 2px rgba(60, 64, 67, 0.3), 0px 1px 3px 1px rgba(60, 64, 67, 0.15);\n",
              "      fill: #174EA6;\n",
              "    }\n",
              "\n",
              "    [theme=dark] .colab-df-convert {\n",
              "      background-color: #3B4455;\n",
              "      fill: #D2E3FC;\n",
              "    }\n",
              "\n",
              "    [theme=dark] .colab-df-convert:hover {\n",
              "      background-color: #434B5C;\n",
              "      box-shadow: 0px 1px 3px 1px rgba(0, 0, 0, 0.15);\n",
              "      filter: drop-shadow(0px 1px 2px rgba(0, 0, 0, 0.3));\n",
              "      fill: #FFFFFF;\n",
              "    }\n",
              "  </style>\n",
              "\n",
              "      <script>\n",
              "        const buttonEl =\n",
              "          document.querySelector('#df-45c00a99-599c-4fac-a897-b0a4a6a42604 button.colab-df-convert');\n",
              "        buttonEl.style.display =\n",
              "          google.colab.kernel.accessAllowed ? 'block' : 'none';\n",
              "\n",
              "        async function convertToInteractive(key) {\n",
              "          const element = document.querySelector('#df-45c00a99-599c-4fac-a897-b0a4a6a42604');\n",
              "          const dataTable =\n",
              "            await google.colab.kernel.invokeFunction('convertToInteractive',\n",
              "                                                     [key], {});\n",
              "          if (!dataTable) return;\n",
              "\n",
              "          const docLinkHtml = 'Like what you see? Visit the ' +\n",
              "            '<a target=\"_blank\" href=https://colab.research.google.com/notebooks/data_table.ipynb>data table notebook</a>'\n",
              "            + ' to learn more about interactive tables.';\n",
              "          element.innerHTML = '';\n",
              "          dataTable['output_type'] = 'display_data';\n",
              "          await google.colab.output.renderOutput(dataTable, element);\n",
              "          const docLink = document.createElement('div');\n",
              "          docLink.innerHTML = docLinkHtml;\n",
              "          element.appendChild(docLink);\n",
              "        }\n",
              "      </script>\n",
              "    </div>\n",
              "  </div>\n",
              "  "
            ]
          },
          "metadata": {},
          "execution_count": 24
        }
      ]
    },
    {
      "cell_type": "code",
      "source": [
        "# looking for null entries and na\n",
        "train_df.isna().sum().sum(), test_df.isna().sum().sum(), train_df.isnull().sum().sum(), test_df.isnull().sum().sum()"
      ],
      "metadata": {
        "colab": {
          "base_uri": "https://localhost:8080/"
        },
        "id": "upH_Dn2qOxO0",
        "outputId": "8a3f0848-695d-40b5-8350-7803e5068b58"
      },
      "execution_count": 25,
      "outputs": [
        {
          "output_type": "execute_result",
          "data": {
            "text/plain": [
              "(314939, 63135, 314939, 63135)"
            ]
          },
          "metadata": {},
          "execution_count": 25
        }
      ]
    },
    {
      "cell_type": "code",
      "source": [
        "train_df.head()"
      ],
      "metadata": {
        "colab": {
          "base_uri": "https://localhost:8080/",
          "height": 206
        },
        "id": "b5Fm9v6SO7HS",
        "outputId": "d2dbc5f3-ff2a-40c8-ba37-df047930794f"
      },
      "execution_count": 26,
      "outputs": [
        {
          "output_type": "execute_result",
          "data": {
            "text/plain": [
              "   TERM_YEAR SEMESTER ACAD_CAR_CD ACAD_GRP_CD ACAD_PROG_CD GENDER_CD  \\\n",
              "0       2022   Spring        BUSN          BI        BIGBI         F   \n",
              "1       2022   Spring        BUSN          BI        BIGBI         F   \n",
              "2       2022   Spring        BUSN          BI        BIGBI         F   \n",
              "3       2022   Spring        BUSN          BI        BIGBI         F   \n",
              "4       2022   Spring        BUSN          BI        BIGBI         M   \n",
              "\n",
              "  ACAD_PLAN_CD DEG_CD STUDY_AGREEMENT_CODE  NYU_IPEDS_ETH_GRP  CNT  \n",
              "0     BIDABCMS     MS                  NaN                  4    1  \n",
              "1     BIDABCMS     MS                  NaN                  9   22  \n",
              "2     BIQFINMS     MS                  NaN                  4    1  \n",
              "3     BIQFINMS     MS                  NaN                  9   27  \n",
              "4     BIDABCMS     MS                  NaN                  1    1  "
            ],
            "text/html": [
              "\n",
              "  <div id=\"df-c80b680a-77d0-4c79-a712-c18d364e65ef\">\n",
              "    <div class=\"colab-df-container\">\n",
              "      <div>\n",
              "<style scoped>\n",
              "    .dataframe tbody tr th:only-of-type {\n",
              "        vertical-align: middle;\n",
              "    }\n",
              "\n",
              "    .dataframe tbody tr th {\n",
              "        vertical-align: top;\n",
              "    }\n",
              "\n",
              "    .dataframe thead th {\n",
              "        text-align: right;\n",
              "    }\n",
              "</style>\n",
              "<table border=\"1\" class=\"dataframe\">\n",
              "  <thead>\n",
              "    <tr style=\"text-align: right;\">\n",
              "      <th></th>\n",
              "      <th>TERM_YEAR</th>\n",
              "      <th>SEMESTER</th>\n",
              "      <th>ACAD_CAR_CD</th>\n",
              "      <th>ACAD_GRP_CD</th>\n",
              "      <th>ACAD_PROG_CD</th>\n",
              "      <th>GENDER_CD</th>\n",
              "      <th>ACAD_PLAN_CD</th>\n",
              "      <th>DEG_CD</th>\n",
              "      <th>STUDY_AGREEMENT_CODE</th>\n",
              "      <th>NYU_IPEDS_ETH_GRP</th>\n",
              "      <th>CNT</th>\n",
              "    </tr>\n",
              "  </thead>\n",
              "  <tbody>\n",
              "    <tr>\n",
              "      <th>0</th>\n",
              "      <td>2022</td>\n",
              "      <td>Spring</td>\n",
              "      <td>BUSN</td>\n",
              "      <td>BI</td>\n",
              "      <td>BIGBI</td>\n",
              "      <td>F</td>\n",
              "      <td>BIDABCMS</td>\n",
              "      <td>MS</td>\n",
              "      <td>NaN</td>\n",
              "      <td>4</td>\n",
              "      <td>1</td>\n",
              "    </tr>\n",
              "    <tr>\n",
              "      <th>1</th>\n",
              "      <td>2022</td>\n",
              "      <td>Spring</td>\n",
              "      <td>BUSN</td>\n",
              "      <td>BI</td>\n",
              "      <td>BIGBI</td>\n",
              "      <td>F</td>\n",
              "      <td>BIDABCMS</td>\n",
              "      <td>MS</td>\n",
              "      <td>NaN</td>\n",
              "      <td>9</td>\n",
              "      <td>22</td>\n",
              "    </tr>\n",
              "    <tr>\n",
              "      <th>2</th>\n",
              "      <td>2022</td>\n",
              "      <td>Spring</td>\n",
              "      <td>BUSN</td>\n",
              "      <td>BI</td>\n",
              "      <td>BIGBI</td>\n",
              "      <td>F</td>\n",
              "      <td>BIQFINMS</td>\n",
              "      <td>MS</td>\n",
              "      <td>NaN</td>\n",
              "      <td>4</td>\n",
              "      <td>1</td>\n",
              "    </tr>\n",
              "    <tr>\n",
              "      <th>3</th>\n",
              "      <td>2022</td>\n",
              "      <td>Spring</td>\n",
              "      <td>BUSN</td>\n",
              "      <td>BI</td>\n",
              "      <td>BIGBI</td>\n",
              "      <td>F</td>\n",
              "      <td>BIQFINMS</td>\n",
              "      <td>MS</td>\n",
              "      <td>NaN</td>\n",
              "      <td>9</td>\n",
              "      <td>27</td>\n",
              "    </tr>\n",
              "    <tr>\n",
              "      <th>4</th>\n",
              "      <td>2022</td>\n",
              "      <td>Spring</td>\n",
              "      <td>BUSN</td>\n",
              "      <td>BI</td>\n",
              "      <td>BIGBI</td>\n",
              "      <td>M</td>\n",
              "      <td>BIDABCMS</td>\n",
              "      <td>MS</td>\n",
              "      <td>NaN</td>\n",
              "      <td>1</td>\n",
              "      <td>1</td>\n",
              "    </tr>\n",
              "  </tbody>\n",
              "</table>\n",
              "</div>\n",
              "      <button class=\"colab-df-convert\" onclick=\"convertToInteractive('df-c80b680a-77d0-4c79-a712-c18d364e65ef')\"\n",
              "              title=\"Convert this dataframe to an interactive table.\"\n",
              "              style=\"display:none;\">\n",
              "        \n",
              "  <svg xmlns=\"http://www.w3.org/2000/svg\" height=\"24px\"viewBox=\"0 0 24 24\"\n",
              "       width=\"24px\">\n",
              "    <path d=\"M0 0h24v24H0V0z\" fill=\"none\"/>\n",
              "    <path d=\"M18.56 5.44l.94 2.06.94-2.06 2.06-.94-2.06-.94-.94-2.06-.94 2.06-2.06.94zm-11 1L8.5 8.5l.94-2.06 2.06-.94-2.06-.94L8.5 2.5l-.94 2.06-2.06.94zm10 10l.94 2.06.94-2.06 2.06-.94-2.06-.94-.94-2.06-.94 2.06-2.06.94z\"/><path d=\"M17.41 7.96l-1.37-1.37c-.4-.4-.92-.59-1.43-.59-.52 0-1.04.2-1.43.59L10.3 9.45l-7.72 7.72c-.78.78-.78 2.05 0 2.83L4 21.41c.39.39.9.59 1.41.59.51 0 1.02-.2 1.41-.59l7.78-7.78 2.81-2.81c.8-.78.8-2.07 0-2.86zM5.41 20L4 18.59l7.72-7.72 1.47 1.35L5.41 20z\"/>\n",
              "  </svg>\n",
              "      </button>\n",
              "      \n",
              "  <style>\n",
              "    .colab-df-container {\n",
              "      display:flex;\n",
              "      flex-wrap:wrap;\n",
              "      gap: 12px;\n",
              "    }\n",
              "\n",
              "    .colab-df-convert {\n",
              "      background-color: #E8F0FE;\n",
              "      border: none;\n",
              "      border-radius: 50%;\n",
              "      cursor: pointer;\n",
              "      display: none;\n",
              "      fill: #1967D2;\n",
              "      height: 32px;\n",
              "      padding: 0 0 0 0;\n",
              "      width: 32px;\n",
              "    }\n",
              "\n",
              "    .colab-df-convert:hover {\n",
              "      background-color: #E2EBFA;\n",
              "      box-shadow: 0px 1px 2px rgba(60, 64, 67, 0.3), 0px 1px 3px 1px rgba(60, 64, 67, 0.15);\n",
              "      fill: #174EA6;\n",
              "    }\n",
              "\n",
              "    [theme=dark] .colab-df-convert {\n",
              "      background-color: #3B4455;\n",
              "      fill: #D2E3FC;\n",
              "    }\n",
              "\n",
              "    [theme=dark] .colab-df-convert:hover {\n",
              "      background-color: #434B5C;\n",
              "      box-shadow: 0px 1px 3px 1px rgba(0, 0, 0, 0.15);\n",
              "      filter: drop-shadow(0px 1px 2px rgba(0, 0, 0, 0.3));\n",
              "      fill: #FFFFFF;\n",
              "    }\n",
              "  </style>\n",
              "\n",
              "      <script>\n",
              "        const buttonEl =\n",
              "          document.querySelector('#df-c80b680a-77d0-4c79-a712-c18d364e65ef button.colab-df-convert');\n",
              "        buttonEl.style.display =\n",
              "          google.colab.kernel.accessAllowed ? 'block' : 'none';\n",
              "\n",
              "        async function convertToInteractive(key) {\n",
              "          const element = document.querySelector('#df-c80b680a-77d0-4c79-a712-c18d364e65ef');\n",
              "          const dataTable =\n",
              "            await google.colab.kernel.invokeFunction('convertToInteractive',\n",
              "                                                     [key], {});\n",
              "          if (!dataTable) return;\n",
              "\n",
              "          const docLinkHtml = 'Like what you see? Visit the ' +\n",
              "            '<a target=\"_blank\" href=https://colab.research.google.com/notebooks/data_table.ipynb>data table notebook</a>'\n",
              "            + ' to learn more about interactive tables.';\n",
              "          element.innerHTML = '';\n",
              "          dataTable['output_type'] = 'display_data';\n",
              "          await google.colab.output.renderOutput(dataTable, element);\n",
              "          const docLink = document.createElement('div');\n",
              "          docLink.innerHTML = docLinkHtml;\n",
              "          element.appendChild(docLink);\n",
              "        }\n",
              "      </script>\n",
              "    </div>\n",
              "  </div>\n",
              "  "
            ]
          },
          "metadata": {},
          "execution_count": 26
        }
      ]
    },
    {
      "cell_type": "code",
      "source": [
        "# The column 'num_sold' is our depended variable. For numerical reasons the logarithmic value is usefull. \n",
        "# The value range of the depended variables is needed to build the tabular learner later on. Setting the range will add a sigmoid function at the last output.\n",
        "dep_var = ['CNT']\n",
        "train_df[dep_var] = np.log(train_df[dep_var])\n",
        "max_dep_value = np.max(train_df[dep_var].max()) * 1.05\n",
        "min_dep_value = np.min(train_df[dep_var].min()) * 0.95\n",
        "dep_value_range = torch.tensor([min_dep_value, max_dep_value], device=device)\n",
        "dep_value_range, dep_var\n"
      ],
      "metadata": {
        "colab": {
          "base_uri": "https://localhost:8080/"
        },
        "id": "ZN7vzEzcPCz0",
        "outputId": "62583a89-d29d-4206-ab1a-3705d6cf0c97"
      },
      "execution_count": 27,
      "outputs": [
        {
          "output_type": "execute_result",
          "data": {
            "text/plain": [
              "(tensor([0.0000, 9.3114], device='cuda:0', dtype=torch.float64), ['CNT'])"
            ]
          },
          "metadata": {},
          "execution_count": 27
        }
      ]
    },
    {
      "cell_type": "code",
      "source": [
        "# looking at unique entries\n",
        "np.unique(train_df['TERM_YEAR'], return_counts=True), np.unique(train_df['SEMESTER'], return_counts=True)\n",
        "\n",
        "# there seems to variable number of entries with respect to the years \n",
        "# and seasons"
      ],
      "metadata": {
        "colab": {
          "base_uri": "https://localhost:8080/"
        },
        "id": "n7uoZXtfPgDu",
        "outputId": "356b5902-98e0-4705-843f-cb631239b323"
      },
      "execution_count": 28,
      "outputs": [
        {
          "output_type": "execute_result",
          "data": {
            "text/plain": [
              "((array([1995, 1996, 1997, 1998, 1999, 2000, 2001, 2002, 2003, 2004, 2005,\n",
              "         2006, 2007, 2008, 2009, 2010, 2011, 2012, 2013, 2014, 2015, 2016,\n",
              "         2017, 2018, 2019, 2020, 2021, 2022]),\n",
              "  array([ 3611,  9374,  9710, 10265, 10556, 10421, 10645, 10821, 10969,\n",
              "         11190, 11215, 11532, 12021, 11908, 12447, 13399, 14486, 14622,\n",
              "         15280, 16225, 17195, 17615, 17992, 18207, 18768, 17648, 17081,\n",
              "          7495])),\n",
              " (array(['Fall', 'Spring', 'Summer', 'Winter'], dtype=object),\n",
              "  array([133660, 137018,  82578,   9442])))"
            ]
          },
          "metadata": {},
          "execution_count": 28
        }
      ]
    },
    {
      "cell_type": "code",
      "source": [
        "#cut = train_df['date'][(train_df['date'] == train_df['date'][len(test_df)])].index.max()\n",
        "# ill use simpler way to use cut\n",
        "\n",
        "cut = len(train_df) - int(0.8 * len(train_df))\n",
        "print(cut)\n",
        "train_idx = range(len(train_df)-cut-1)\n",
        "valid_idx = range(len(train_df)-cut, len(train_df)-1)\n",
        "splits = (list(train_idx),list(valid_idx))\n",
        "train_idx, valid_idx"
      ],
      "metadata": {
        "colab": {
          "base_uri": "https://localhost:8080/"
        },
        "id": "bAnoeI4jYOkO",
        "outputId": "f41e8416-2fe6-4fc2-c529-b4dc2c745dba"
      },
      "execution_count": 29,
      "outputs": [
        {
          "output_type": "stream",
          "name": "stdout",
          "text": [
            "72540\n"
          ]
        },
        {
          "output_type": "execute_result",
          "data": {
            "text/plain": [
              "(range(0, 290157), range(290158, 362697))"
            ]
          },
          "metadata": {},
          "execution_count": 29
        }
      ]
    },
    {
      "cell_type": "code",
      "source": [
        "#  deviding into cont and categorical data\n",
        "cont_vars, cat_vars = cont_cat_split(train_df, dep_var= dep_var,  max_card=12)\n",
        "cat_vars, cont_vars\n",
        "\n",
        "# NYU_IPEDS_ETH_GRP is the only categorical variable"
      ],
      "metadata": {
        "colab": {
          "base_uri": "https://localhost:8080/"
        },
        "id": "odppVyYuQcHn",
        "outputId": "4739b002-7ea2-4453-f40b-8404aa4dc4aa"
      },
      "execution_count": 30,
      "outputs": [
        {
          "output_type": "execute_result",
          "data": {
            "text/plain": [
              "(['SEMESTER',\n",
              "  'ACAD_CAR_CD',\n",
              "  'ACAD_GRP_CD',\n",
              "  'ACAD_PROG_CD',\n",
              "  'GENDER_CD',\n",
              "  'ACAD_PLAN_CD',\n",
              "  'DEG_CD',\n",
              "  'STUDY_AGREEMENT_CODE',\n",
              "  'NYU_IPEDS_ETH_GRP'],\n",
              " ['TERM_YEAR'])"
            ]
          },
          "metadata": {},
          "execution_count": 30
        }
      ]
    },
    {
      "cell_type": "code",
      "source": [
        "procs=[Categorify, FillMissing, Normalize]\n",
        "to_train = TabularPandas(train_df, \n",
        "                         procs=procs, \n",
        "                         cat_names=cat_vars, \n",
        "                         cont_names=cont_vars, \n",
        "                         splits=splits,\n",
        "                         device=device,\n",
        "                         y_names=dep_var,\n",
        "                         y_block=RegressionBlock())\n",
        "\n",
        "# not using any custom splits here"
      ],
      "metadata": {
        "id": "sR27vpL2SE8q"
      },
      "execution_count": 31,
      "outputs": []
    },
    {
      "cell_type": "code",
      "source": [
        "# train dataloaders\n",
        "\n",
        "dls = to_train.dataloaders(bs=8) # incredibly low batch size\n",
        "len(dls.train),len(dls.valid), type(dls.train), dls.train.device\n",
        "\n"
      ],
      "metadata": {
        "colab": {
          "base_uri": "https://localhost:8080/"
        },
        "id": "CByDGGgcSwof",
        "outputId": "28660ea9-59cc-40be-91fd-df0aa3daef7d"
      },
      "execution_count": 32,
      "outputs": [
        {
          "output_type": "execute_result",
          "data": {
            "text/plain": [
              "(36269, 9068, fastai.tabular.core.TabDataLoader, device(type='cuda', index=0))"
            ]
          },
          "metadata": {},
          "execution_count": 32
        }
      ]
    },
    {
      "cell_type": "code",
      "source": [
        "# using smape for function to have a custom loss : \n",
        "# https://en.wikipedia.org/wiki/Symmetric_mean_absolute_percentage_error\n",
        "\n",
        "\n",
        "\n",
        "def smape(y_pred, target):\n",
        "    return torch.mean(2*torch.abs(y_pred - target)/(torch.abs(target) + torch.abs(y_pred)))\n",
        "\n",
        "\n",
        "\n",
        "class MyLoss(nn.Module):\n",
        "    def __init__(self, diff_weight=0.5):\n",
        "        super().__init__()\n",
        "        self.diff_weight = diff_weight\n",
        "        \n",
        "    def forward(self,y_pred, target):\n",
        "        num_loss =  (1-self.diff_weight) * smape(y_pred[:,0], target[:,0])\n",
        "        diff_loss = self.diff_weight * smape(y_pred[:,1], target[:,1])\n",
        "        return num_loss + diff_loss    "
      ],
      "metadata": {
        "id": "bZg_78g2S2vh"
      },
      "execution_count": 33,
      "outputs": []
    },
    {
      "cell_type": "code",
      "source": [
        "my_config = tabular_config(ps=.15, embed_p=0.15, use_bn=True, y_range=dep_value_range)\n",
        "\n",
        "learn = tabular_learner(dls, \n",
        "                        n_out = dls.c,\n",
        "                        config = my_config,\n",
        "                        layers = [64,256,1024,1024,256,64,16],\n",
        "                        metrics = [smape, exp_rmspe]) \n",
        "                       \n",
        "learn.summary()\n"
      ],
      "metadata": {
        "colab": {
          "base_uri": "https://localhost:8080/",
          "height": 1000
        },
        "id": "nMOFeSvMTT7c",
        "outputId": "658bc360-c890-4447-8e45-f8916435a6df"
      },
      "execution_count": 34,
      "outputs": [
        {
          "output_type": "display_data",
          "data": {
            "text/plain": [
              "<IPython.core.display.HTML object>"
            ],
            "text/html": [
              "\n",
              "<style>\n",
              "    /* Turns off some styling */\n",
              "    progress {\n",
              "        /* gets rid of default border in Firefox and Opera. */\n",
              "        border: none;\n",
              "        /* Needs to be in here for Safari polyfill so background images work as expected. */\n",
              "        background-size: auto;\n",
              "    }\n",
              "    progress:not([value]), progress:not([value])::-webkit-progress-bar {\n",
              "        background: repeating-linear-gradient(45deg, #7e7e7e, #7e7e7e 10px, #5c5c5c 10px, #5c5c5c 20px);\n",
              "    }\n",
              "    .progress-bar-interrupted, .progress-bar-interrupted::-webkit-progress-bar {\n",
              "        background: #F44336;\n",
              "    }\n",
              "</style>\n"
            ]
          },
          "metadata": {}
        },
        {
          "output_type": "display_data",
          "data": {
            "text/plain": [
              "<IPython.core.display.HTML object>"
            ],
            "text/html": [
              ""
            ]
          },
          "metadata": {}
        },
        {
          "output_type": "execute_result",
          "data": {
            "text/plain": [
              "TabularModel (Input shape: 8 x 9)\n",
              "============================================================================\n",
              "Layer (type)         Output Shape         Param #    Trainable \n",
              "============================================================================\n",
              "                     8 x 4               \n",
              "Embedding                                 20         True      \n",
              "____________________________________________________________________________\n",
              "                     8 x 6               \n",
              "Embedding                                 66         True      \n",
              "____________________________________________________________________________\n",
              "                     8 x 15              \n",
              "Embedding                                 840        True      \n",
              "____________________________________________________________________________\n",
              "                     8 x 30              \n",
              "Embedding                                 5670       True      \n",
              "____________________________________________________________________________\n",
              "                     8 x 3               \n",
              "Embedding                                 9          True      \n",
              "____________________________________________________________________________\n",
              "                     8 x 137             \n",
              "Embedding                                 387573     True      \n",
              "____________________________________________________________________________\n",
              "                     8 x 14              \n",
              "Embedding                                 700        True      \n",
              "____________________________________________________________________________\n",
              "                     8 x 40              \n",
              "Embedding                                 12680      True      \n",
              "____________________________________________________________________________\n",
              "                     8 x 6               \n",
              "Embedding                                 60         True      \n",
              "Dropout                                                        \n",
              "BatchNorm1d                               2          True      \n",
              "____________________________________________________________________________\n",
              "                     8 x 64              \n",
              "Linear                                    16384      True      \n",
              "ReLU                                                           \n",
              "BatchNorm1d                               128        True      \n",
              "Dropout                                                        \n",
              "____________________________________________________________________________\n",
              "                     8 x 256             \n",
              "Linear                                    16384      True      \n",
              "ReLU                                                           \n",
              "BatchNorm1d                               512        True      \n",
              "Dropout                                                        \n",
              "____________________________________________________________________________\n",
              "                     8 x 1024            \n",
              "Linear                                    262144     True      \n",
              "ReLU                                                           \n",
              "BatchNorm1d                               2048       True      \n",
              "Dropout                                                        \n",
              "Linear                                    1048576    True      \n",
              "ReLU                                                           \n",
              "BatchNorm1d                               2048       True      \n",
              "Dropout                                                        \n",
              "____________________________________________________________________________\n",
              "                     8 x 256             \n",
              "Linear                                    262144     True      \n",
              "ReLU                                                           \n",
              "BatchNorm1d                               512        True      \n",
              "Dropout                                                        \n",
              "____________________________________________________________________________\n",
              "                     8 x 64              \n",
              "Linear                                    16384      True      \n",
              "ReLU                                                           \n",
              "BatchNorm1d                               128        True      \n",
              "Dropout                                                        \n",
              "____________________________________________________________________________\n",
              "                     8 x 16              \n",
              "Linear                                    1024       True      \n",
              "ReLU                                                           \n",
              "BatchNorm1d                               32         True      \n",
              "Dropout                                                        \n",
              "____________________________________________________________________________\n",
              "                     8 x 1               \n",
              "Linear                                    17         True      \n",
              "SigmoidRange                                                   \n",
              "____________________________________________________________________________\n",
              "\n",
              "Total params: 2,036,085\n",
              "Total trainable params: 2,036,085\n",
              "Total non-trainable params: 0\n",
              "\n",
              "Optimizer used: <function Adam at 0x7f16d9cbea70>\n",
              "Loss function: FlattenedLoss of MSELoss()\n",
              "\n",
              "Callbacks:\n",
              "  - TrainEvalCallback\n",
              "  - CastToTensor\n",
              "  - Recorder\n",
              "  - ProgressCallback"
            ],
            "application/vnd.google.colaboratory.intrinsic+json": {
              "type": "string"
            }
          },
          "metadata": {},
          "execution_count": 34
        }
      ]
    },
    {
      "cell_type": "code",
      "source": [
        "# finding a learning rate\n",
        "\n",
        "learn.lr_find()"
      ],
      "metadata": {
        "colab": {
          "base_uri": "https://localhost:8080/",
          "height": 300
        },
        "id": "lpahEkRET1RJ",
        "outputId": "32ca48c4-e731-41cb-e90a-3072633b0c3d"
      },
      "execution_count": 35,
      "outputs": [
        {
          "output_type": "display_data",
          "data": {
            "text/plain": [
              "<IPython.core.display.HTML object>"
            ],
            "text/html": [
              "\n",
              "<style>\n",
              "    /* Turns off some styling */\n",
              "    progress {\n",
              "        /* gets rid of default border in Firefox and Opera. */\n",
              "        border: none;\n",
              "        /* Needs to be in here for Safari polyfill so background images work as expected. */\n",
              "        background-size: auto;\n",
              "    }\n",
              "    progress:not([value]), progress:not([value])::-webkit-progress-bar {\n",
              "        background: repeating-linear-gradient(45deg, #7e7e7e, #7e7e7e 10px, #5c5c5c 10px, #5c5c5c 20px);\n",
              "    }\n",
              "    .progress-bar-interrupted, .progress-bar-interrupted::-webkit-progress-bar {\n",
              "        background: #F44336;\n",
              "    }\n",
              "</style>\n"
            ]
          },
          "metadata": {}
        },
        {
          "output_type": "display_data",
          "data": {
            "text/plain": [
              "<IPython.core.display.HTML object>"
            ],
            "text/html": [
              ""
            ]
          },
          "metadata": {}
        },
        {
          "output_type": "execute_result",
          "data": {
            "text/plain": [
              "SuggestedLRs(valley=0.02754228748381138)"
            ]
          },
          "metadata": {},
          "execution_count": 35
        },
        {
          "output_type": "display_data",
          "data": {
            "text/plain": [
              "<Figure size 432x288 with 1 Axes>"
            ],
            "image/png": "[encoded data removed]"
          },
          "metadata": {
            "needs_background": "light"
          }
        }
      ]
    },
    {
      "cell_type": "code",
      "source": [
        "learn.fit_one_cycle(30, 3e-3)"
      ],
      "metadata": {
        "colab": {
          "base_uri": "https://localhost:8080/",
          "height": 158
        },
        "id": "Nq6A21a5UDUa",
        "outputId": "27d9e785-ad71-4fb2-aee5-00b2e9308fbe"
      },
      "execution_count": null,
      "outputs": [
        {
          "output_type": "display_data",
          "data": {
            "text/plain": [
              "<IPython.core.display.HTML object>"
            ],
            "text/html": [
              "\n",
              "<style>\n",
              "    /* Turns off some styling */\n",
              "    progress {\n",
              "        /* gets rid of default border in Firefox and Opera. */\n",
              "        border: none;\n",
              "        /* Needs to be in here for Safari polyfill so background images work as expected. */\n",
              "        background-size: auto;\n",
              "    }\n",
              "    progress:not([value]), progress:not([value])::-webkit-progress-bar {\n",
              "        background: repeating-linear-gradient(45deg, #7e7e7e, #7e7e7e 10px, #5c5c5c 10px, #5c5c5c 20px);\n",
              "    }\n",
              "    .progress-bar-interrupted, .progress-bar-interrupted::-webkit-progress-bar {\n",
              "        background: #F44336;\n",
              "    }\n",
              "</style>\n"
            ]
          },
          "metadata": {}
        },
        {
          "output_type": "display_data",
          "data": {
            "text/plain": [
              "<IPython.core.display.HTML object>"
            ],
            "text/html": [
              "\n",
              "    <div>\n",
              "      <progress value='2' class='' max='30' style='width:300px; height:20px; vertical-align: middle;'></progress>\n",
              "      6.67% [2/30 17:03&lt;3:58:44]\n",
              "    </div>\n",
              "    \n",
              "<table border=\"1\" class=\"dataframe\">\n",
              "  <thead>\n",
              "    <tr style=\"text-align: left;\">\n",
              "      <th>epoch</th>\n",
              "      <th>train_loss</th>\n",
              "      <th>valid_loss</th>\n",
              "      <th>smape</th>\n",
              "      <th>_exp_rmspe</th>\n",
              "      <th>time</th>\n",
              "    </tr>\n",
              "  </thead>\n",
              "  <tbody>\n",
              "    <tr>\n",
              "      <td>0</td>\n",
              "      <td>0.859635</td>\n",
              "      <td>0.916310</td>\n",
              "      <td>1.051421</td>\n",
              "      <td>1.284475</td>\n",
              "      <td>08:41</td>\n",
              "    </tr>\n",
              "    <tr>\n",
              "      <td>1</td>\n",
              "      <td>0.829182</td>\n",
              "      <td>0.876344</td>\n",
              "      <td>1.056174</td>\n",
              "      <td>1.065944</td>\n",
              "      <td>08:21</td>\n",
              "    </tr>\n",
              "  </tbody>\n",
              "</table><p>\n",
              "\n",
              "    <div>\n",
              "      <progress value='2736' class='' max='36269' style='width:300px; height:20px; vertical-align: middle;'></progress>\n",
              "      7.54% [2736/36269 00:33&lt;06:50 0.7416]\n",
              "    </div>\n",
              "    "
            ]
          },
          "metadata": {}
        }
      ]
    },
    {
      "cell_type": "code",
      "source": [
        "# there is some generator trouble probably because of \n",
        "# 1. lack of split\n",
        "# 2. batch size is less\n",
        "\n",
        "\n",
        "learn.show_results(shuffle=False)"
      ],
      "metadata": {
        "id": "verq2dcRUJAr"
      },
      "execution_count": null,
      "outputs": []
    },
    {
      "cell_type": "code",
      "source": [
        "# predictions\n",
        "\n",
        "dlt = learn.dls.test_dl(test_df, bs=64) \n",
        "nn_preds, _ = learn.get_preds(dl=dlt) \n",
        "nn_preds.min(), nn_preds.max()\n",
        "\n",
        "\n",
        "# the value we are getting is auto normalised score. (exp)"
      ],
      "metadata": {
        "id": "z3nOc4M_VW81"
      },
      "execution_count": null,
      "outputs": []
    },
    {
      "cell_type": "code",
      "source": [
        "np.exp(nn_preds) # actual result from test df"
      ],
      "metadata": {
        "id": "Y7XfoPg_ZiZA"
      },
      "execution_count": null,
      "outputs": []
    },
    {
      "cell_type": "code",
      "source": [
        "test_df[\"CNT\"] # the actual values"
      ],
      "metadata": {
        "id": "7WkWJRHTZsEt"
      },
      "execution_count": null,
      "outputs": []
    },
    {
      "cell_type": "code",
      "source": [
        "new_preds = test_df\n",
        "\n",
        "new_preds[\"nn_preds\"] = np.exp(nn_preds)\n",
        "\n",
        "new_preds"
      ],
      "metadata": {
        "id": "nBJrH7MMZ3HI"
      },
      "execution_count": null,
      "outputs": []
    },
    {
      "cell_type": "code",
      "source": [
        "# maybe we can try with the error function you used to check\n",
        "\n",
        "from sklearn import metrics\n",
        "\n",
        "print('Mean Absolute Error:', metrics.mean_absolute_error(new_preds['CNT'], np.exp(nn_preds)))\n",
        "print('Mean Squared Error:', metrics.mean_squared_error(new_preds['CNT'], np.exp(nn_preds)))\n",
        "print('Root Mean Squared Error:', np.sqrt(\n",
        "                                          metrics.mean_squared_error(new_preds['CNT'], np.exp(nn_preds))\n",
        "                                         ))\n",
        "\n",
        "# woah! why this is too much!"
      ],
      "metadata": {
        "id": "5KIaA3jEamqQ"
      },
      "execution_count": null,
      "outputs": []
    },
    {
      "cell_type": "code",
      "source": [
        "# i dont think there is much accuracy imporvement because of disparate dataset\n",
        "# instead we can try other options I mentioned before.\n",
        "\n",
        "# pecularities\n",
        "# 0. less number of features to predict from so highly dependent\n",
        "# 1. no winter data before 2009\n",
        "# 2. relatively less people join in winters \n",
        "# 3. most people join during spring and fall - these can be put together\n",
        "# 4. around 25k people join in summer - can be put into different category\n",
        "\n",
        "# things we can try - we can devide the dataset based on category and year\n",
        "# and have different models for all of them\n"
      ],
      "metadata": {
        "id": "m83GUEGvaP9n"
      },
      "execution_count": 36,
      "outputs": []
    }
  ]
}