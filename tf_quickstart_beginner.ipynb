{
  "nbformat": 4,
  "nbformat_minor": 0,
  "metadata": {
    "colab": {
      "name": "tf_quickstart_beginner.ipynb",
      "provenance": [],
      "authorship_tag": "ABX9TyOsz+iT7BiAvguCzRGK2AB/",
      "include_colab_link": true
    },
    "kernelspec": {
      "name": "python3",
      "display_name": "Python 3"
    }
  },
  "cells": [
    {
      "cell_type": "markdown",
      "metadata": {
        "id": "view-in-github",
        "colab_type": "text"
      },
      "source": [
        "<a href=\"https://colab.research.google.com/github/fanbyprinciple/ML-experiments/blob/master/tf_quickstart_beginner.ipynb\" target=\"_parent\"><img src=\"https://colab.research.google.com/assets/colab-badge.svg\" alt=\"Open In Colab\"/></a>"
      ]
    },
    {
      "cell_type": "code",
      "metadata": {
        "id": "6rgXn2LwAWo1",
        "colab_type": "code",
        "colab": {}
      },
      "source": [
        "import tensorflow as tf"
      ],
      "execution_count": 2,
      "outputs": []
    },
    {
      "cell_type": "code",
      "metadata": {
        "id": "D2X9PeBJA2P1",
        "colab_type": "code",
        "colab": {}
      },
      "source": [
        "mnist  = tf.keras.datasets.mnist"
      ],
      "execution_count": 3,
      "outputs": []
    },
    {
      "cell_type": "code",
      "metadata": {
        "id": "mFB-GyqgA772",
        "colab_type": "code",
        "colab": {
          "base_uri": "https://localhost:8080/",
          "height": 51
        },
        "outputId": "89082090-d925-4642-caa4-f85a753e339f"
      },
      "source": [
        "(x_train, y_train), (x_test, y_test) = mnist.load_data()"
      ],
      "execution_count": 4,
      "outputs": [
        {
          "output_type": "stream",
          "text": [
            "Downloading data from https://storage.googleapis.com/tensorflow/tf-keras-datasets/mnist.npz\n",
            "11493376/11490434 [==============================] - 0s 0us/step\n"
          ],
          "name": "stdout"
        }
      ]
    },
    {
      "cell_type": "code",
      "metadata": {
        "id": "9ARg345LBEuG",
        "colab_type": "code",
        "colab": {}
      },
      "source": [
        "x_train, x_test = x_train / 255.0, x_test / 255.0"
      ],
      "execution_count": 5,
      "outputs": []
    },
    {
      "cell_type": "code",
      "metadata": {
        "id": "x7gVZWhABN0v",
        "colab_type": "code",
        "colab": {}
      },
      "source": [
        "model = tf.keras.models.Sequential([\n",
        "                                    tf.keras.layers.Flatten(input_shape=(28,28)),\n",
        "                                    tf.keras.layers.Dense(128, activation='relu'),\n",
        "                                    tf.keras.layers.Dropout(0.2),\n",
        "                                    tf.keras.layers.Dense(10)\n",
        "])"
      ],
      "execution_count": 7,
      "outputs": []
    },
    {
      "cell_type": "code",
      "metadata": {
        "id": "Hel2M04dB7G6",
        "colab_type": "code",
        "colab": {}
      },
      "source": [
        "predictions = model(x_train[:1]).numpy()"
      ],
      "execution_count": 8,
      "outputs": []
    },
    {
      "cell_type": "code",
      "metadata": {
        "id": "ycqHqFknDFc2",
        "colab_type": "code",
        "colab": {
          "base_uri": "https://localhost:8080/",
          "height": 68
        },
        "outputId": "7d2872d5-6d22-484d-ea07-baec48226024"
      },
      "source": [
        "predictions"
      ],
      "execution_count": 9,
      "outputs": [
        {
          "output_type": "execute_result",
          "data": {
            "text/plain": [
              "array([[ 0.2568362 ,  0.2705673 ,  0.45390132, -0.5847111 , -0.34318146,\n",
              "         0.3605727 , -1.3911841 , -0.36320037,  0.30959815,  0.19786389]],\n",
              "      dtype=float32)"
            ]
          },
          "metadata": {
            "tags": []
          },
          "execution_count": 9
        }
      ]
    },
    {
      "cell_type": "code",
      "metadata": {
        "id": "8spuzsvXDJgz",
        "colab_type": "code",
        "colab": {
          "base_uri": "https://localhost:8080/",
          "height": 68
        },
        "outputId": "8698738e-c54f-475a-f02c-22f851eaca08"
      },
      "source": [
        "tf.nn.softmax(predictions).numpy()"
      ],
      "execution_count": 10,
      "outputs": [
        {
          "output_type": "execute_result",
          "data": {
            "text/plain": [
              "array([[0.12425342, 0.12597132, 0.15131871, 0.05355858, 0.06819052,\n",
              "        0.13783532, 0.02391015, 0.06683899, 0.1309853 , 0.11713778]],\n",
              "      dtype=float32)"
            ]
          },
          "metadata": {
            "tags": []
          },
          "execution_count": 10
        }
      ]
    },
    {
      "cell_type": "code",
      "metadata": {
        "id": "PHUxQc_GDqMH",
        "colab_type": "code",
        "colab": {}
      },
      "source": [
        "loss_fn = tf.keras.losses.SparseCategoricalCrossentropy(from_logits=True)"
      ],
      "execution_count": 11,
      "outputs": []
    },
    {
      "cell_type": "code",
      "metadata": {
        "id": "mrGNxD-sENET",
        "colab_type": "code",
        "colab": {
          "base_uri": "https://localhost:8080/",
          "height": 34
        },
        "outputId": "5c2b6b6e-f709-4319-8646-be746dc70fd0"
      },
      "source": [
        "loss_fn(y_train[:1], predictions).numpy()"
      ],
      "execution_count": 12,
      "outputs": [
        {
          "output_type": "execute_result",
          "data": {
            "text/plain": [
              "1.9816957"
            ]
          },
          "metadata": {
            "tags": []
          },
          "execution_count": 12
        }
      ]
    },
    {
      "cell_type": "code",
      "metadata": {
        "id": "oATKGiNaETjs",
        "colab_type": "code",
        "colab": {}
      },
      "source": [
        "model.compile(optimizer='adam',\n",
        "              loss=loss_fn,\n",
        "              metrics=['accuracy'])"
      ],
      "execution_count": 13,
      "outputs": []
    },
    {
      "cell_type": "code",
      "metadata": {
        "id": "4D7gLLx9EeZH",
        "colab_type": "code",
        "colab": {
          "base_uri": "https://localhost:8080/",
          "height": 204
        },
        "outputId": "4b153377-d9b8-4a1b-b064-4978f9eb032b"
      },
      "source": [
        "model.fit(x_train, y_train, epochs=5)"
      ],
      "execution_count": 14,
      "outputs": [
        {
          "output_type": "stream",
          "text": [
            "Epoch 1/5\n",
            "1875/1875 [==============================] - 4s 2ms/step - loss: 0.2977 - accuracy: 0.9129\n",
            "Epoch 2/5\n",
            "1875/1875 [==============================] - 4s 2ms/step - loss: 0.1430 - accuracy: 0.9581\n",
            "Epoch 3/5\n",
            "1875/1875 [==============================] - 3s 2ms/step - loss: 0.1067 - accuracy: 0.9680\n",
            "Epoch 4/5\n",
            "1875/1875 [==============================] - 3s 2ms/step - loss: 0.0878 - accuracy: 0.9732\n",
            "Epoch 5/5\n",
            "1875/1875 [==============================] - 3s 2ms/step - loss: 0.0754 - accuracy: 0.9771\n"
          ],
          "name": "stdout"
        },
        {
          "output_type": "execute_result",
          "data": {
            "text/plain": [
              "<tensorflow.python.keras.callbacks.History at 0x7f6f9db2b5c0>"
            ]
          },
          "metadata": {
            "tags": []
          },
          "execution_count": 14
        }
      ]
    },
    {
      "cell_type": "code",
      "metadata": {
        "id": "4jqD4tQNEi8X",
        "colab_type": "code",
        "colab": {
          "base_uri": "https://localhost:8080/",
          "height": 51
        },
        "outputId": "3f59d2ce-639c-4776-cdf1-eb3035def577"
      },
      "source": [
        "model.evaluate(x_test, y_test, verbose=2)"
      ],
      "execution_count": 15,
      "outputs": [
        {
          "output_type": "stream",
          "text": [
            "313/313 - 0s - loss: 0.0775 - accuracy: 0.9768\n"
          ],
          "name": "stdout"
        },
        {
          "output_type": "execute_result",
          "data": {
            "text/plain": [
              "[0.07749713957309723, 0.9768000245094299]"
            ]
          },
          "metadata": {
            "tags": []
          },
          "execution_count": 15
        }
      ]
    },
    {
      "cell_type": "code",
      "metadata": {
        "id": "gWVgf1gWEreW",
        "colab_type": "code",
        "colab": {}
      },
      "source": [
        "probability_model = tf.keras.Sequential([\n",
        "                                         model,\n",
        "                                         tf.keras.layers.Softmax()\n",
        "])"
      ],
      "execution_count": 16,
      "outputs": []
    },
    {
      "cell_type": "code",
      "metadata": {
        "id": "WhJo-yEME1LH",
        "colab_type": "code",
        "colab": {
          "base_uri": "https://localhost:8080/",
          "height": 289
        },
        "outputId": "f8ad6503-3892-47fc-a56d-2dbc4abde8ce"
      },
      "source": [
        "probability_model(x_test[:5])"
      ],
      "execution_count": 17,
      "outputs": [
        {
          "output_type": "execute_result",
          "data": {
            "text/plain": [
              "<tf.Tensor: shape=(5, 10), dtype=float32, numpy=\n",
              "array([[4.24530640e-07, 1.70126047e-08, 3.48684921e-07, 2.25909796e-04,\n",
              "        5.27107568e-12, 3.47108966e-07, 3.22366975e-15, 9.99770701e-01,\n",
              "        9.26321491e-07, 1.28246802e-06],\n",
              "       [1.14324259e-07, 5.93633631e-05, 9.99585330e-01, 3.41724168e-04,\n",
              "        1.16763889e-17, 1.31765746e-05, 1.15660566e-08, 1.17960587e-13,\n",
              "        1.87272590e-07, 3.95613768e-15],\n",
              "       [3.46962167e-07, 9.98885810e-01, 1.89688653e-04, 1.32592277e-05,\n",
              "        1.99957831e-05, 1.11697345e-05, 1.32841496e-05, 7.87769502e-04,\n",
              "        7.86342207e-05, 1.10148370e-07],\n",
              "       [9.99981165e-01, 4.37184004e-11, 7.25860264e-06, 2.57383732e-07,\n",
              "        8.13984169e-09, 9.27289511e-06, 9.04303988e-07, 2.43658832e-07,\n",
              "        3.88642825e-08, 9.05399077e-07],\n",
              "       [3.77512551e-05, 4.50390942e-08, 4.89438025e-05, 1.65593462e-07,\n",
              "        9.94307816e-01, 4.17510000e-06, 1.36272974e-05, 6.99534488e-04,\n",
              "        3.76962853e-05, 4.85028885e-03]], dtype=float32)>"
            ]
          },
          "metadata": {
            "tags": []
          },
          "execution_count": 17
        }
      ]
    },
    {
      "cell_type": "code",
      "metadata": {
        "id": "xUCLDSDxE-4W",
        "colab_type": "code",
        "colab": {
          "base_uri": "https://localhost:8080/",
          "height": 289
        },
        "outputId": "5672c53d-7a91-4342-b033-f84ecae89d10"
      },
      "source": [
        "print(probability_model(x_test[:5]), y_test[:5])"
      ],
      "execution_count": 24,
      "outputs": [
        {
          "output_type": "stream",
          "text": [
            "tf.Tensor(\n",
            "[[4.24530640e-07 1.70126047e-08 3.48684921e-07 2.25909796e-04\n",
            "  5.27107568e-12 3.47108966e-07 3.22366975e-15 9.99770701e-01\n",
            "  9.26321491e-07 1.28246802e-06]\n",
            " [1.14324259e-07 5.93633631e-05 9.99585330e-01 3.41724168e-04\n",
            "  1.16763889e-17 1.31765746e-05 1.15660566e-08 1.17960587e-13\n",
            "  1.87272590e-07 3.95613768e-15]\n",
            " [3.46962167e-07 9.98885810e-01 1.89688653e-04 1.32592277e-05\n",
            "  1.99957831e-05 1.11697345e-05 1.32841496e-05 7.87769502e-04\n",
            "  7.86342207e-05 1.10148370e-07]\n",
            " [9.99981165e-01 4.37184004e-11 7.25860264e-06 2.57383732e-07\n",
            "  8.13984169e-09 9.27289511e-06 9.04303988e-07 2.43658832e-07\n",
            "  3.88642825e-08 9.05399077e-07]\n",
            " [3.77512551e-05 4.50390942e-08 4.89438025e-05 1.65593462e-07\n",
            "  9.94307816e-01 4.17510000e-06 1.36272974e-05 6.99534488e-04\n",
            "  3.76962853e-05 4.85028885e-03]], shape=(5, 10), dtype=float32) [7 2 1 0 4]\n"
          ],
          "name": "stdout"
        }
      ]
    }
  ]
}